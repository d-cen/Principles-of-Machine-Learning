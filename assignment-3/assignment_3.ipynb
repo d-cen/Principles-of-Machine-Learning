{
  "nbformat": 4,
  "nbformat_minor": 0,
  "metadata": {
    "colab": {
      "name": "assignment-3.ipynb",
      "provenance": [],
      "collapsed_sections": [],
      "toc_visible": true
    },
    "kernelspec": {
      "name": "python3",
      "display_name": "Python 3"
    },
    "language_info": {
      "name": "python"
    }
  },
  "cells": [
    {
      "cell_type": "markdown",
      "source": [
        "# ECE 59500 Machine Learning: Assignment 3"
      ],
      "metadata": {
        "id": "xX-fTq886Ofr"
      }
    },
    {
      "cell_type": "markdown",
      "source": [
        "# Exercise 1: Maximum Likelihood Estimation of Covariance Matrix"
      ],
      "metadata": {
        "id": "koaaqz_u6Sxh"
      }
    },
    {
      "cell_type": "markdown",
      "source": [
        "## (a)"
      ],
      "metadata": {
        "id": "-IQfXOjmK8Ts"
      }
    },
    {
      "cell_type": "markdown",
      "source": [
        "### (i)\n",
        "\n",
        "$$\n",
        "x^TAx=\\sum_{i,j=1}^{d}[A]_{i,j}x_ix_j\n",
        "$$"
      ],
      "metadata": {
        "id": "NerntiLgK9xq"
      }
    },
    {
      "cell_type": "markdown",
      "source": [
        "$$\n",
        "[Axx^T]_{j,j}=\\sum_{i=1}^{d}[A]_{j,i}x_jx_i→tr[Axx^T]=\\sum_{i,j=1}^{d}[A]_{i,j}x_ix_j=x^TAx\n",
        "$$"
      ],
      "metadata": {
        "id": "JnQcA26wLqUC"
      }
    },
    {
      "cell_type": "markdown",
      "source": [
        "### (ii)\n",
        "\n",
        "$\n",
        "p[x_1,...,x_N|\\Sigma]\\\\\n",
        "=\\prod_{i=1}^{N}\\frac{1}{(2\\pi)^{\\frac{d}{2}}|\\Sigma|^\\frac{1}{2}}\\text{exp}\\{-\\frac{1}{2}(x_i-\\mu)^T\\Sigma^{-1}(x_i-\\mu)\\}\\\\\n",
        "=\\frac{1}{(2\\pi)^{\\frac{Nd}{2}}|\\Sigma|^\\frac{N}{2}}\\text{exp}\\{-\\frac{1}{2}∑_{i=1}^{N}(x_i-\\mu)^T\\Sigma^{-1}(x_i-\\mu)\\}\\\\\n",
        "=\\frac{1}{(2\\pi)^{\\frac{Nd}{2}}|\\Sigma|^\\frac{N}{2}}\\text{exp}\\{-\\frac{1}{2}∑_{i=1}^{N}tr[\\Sigma^{-1}(x_i-\\mu)(x_i-\\mu)^T]\\}\\\\\n",
        "=\\frac{1}{(2\\pi)^{\\frac{Nd}{2}}|\\Sigma|^\\frac{N}{2}}\\text{exp}\\{-\\frac{1}{2}tr[\\Sigma^{-1}∑_{i=1}^{N}(x_i-\\mu)(x_i-\\mu)^T]\\}\n",
        "$"
      ],
      "metadata": {
        "id": "C2tNTmaWMhQj"
      }
    },
    {
      "cell_type": "markdown",
      "source": [
        "### (iii)\n",
        "\n",
        "In definition, $\\hat{\\Sigma}_{MLE}^{-1}=\\Sigma^{-1}$. \n",
        "\n",
        "$$\n",
        "|\\Sigma^{-1}|=|\\hat{\\Sigma}_{MLE}^{-1}||A|=|\\hat{\\Sigma}_{MLE}|^{-1}\\prod_{i=1}^d\\lambda_i\n",
        "$$\n",
        "\n",
        "Combining expression in (ii) with what we have\n",
        "\n",
        "$\n",
        "tr[\\Sigma^{-1}\\sum_{i=1}^{N}(x_i-\\mu)(x_i-\\mu)^T]\\\\\n",
        "=tr[N\\Sigma^{-1}\\hat{\\Sigma}_{MLE}]\\\\\n",
        "=N\\sum_{i=1}^{d}\\lambda_i\n",
        "$"
      ],
      "metadata": {
        "id": "X4eqpO1MOSnz"
      }
    },
    {
      "cell_type": "markdown",
      "source": [
        "### (iv)\n",
        "\n",
        "Take derivative with respect to $\\lambda_k$ and set to zero. Denote $C=\\frac{1}{(2\\pi)^{\\frac{Nd}{2}}|\\hat{\\Sigma}_{MLE}|^\\frac{N}{2}}$\n",
        "\n",
        "$\n",
        "0=\\frac{\\partial}{\\partial\\lambda_k}\\{C(∏_{i=1}^{d}\\lambda_i)^(\\frac{N}{2})\\text{exp}\\{-\\frac{N}{2}\\sum_{i=1}^{d}\\lambda_i\\}\\}\\\\\n",
        "=C\\frac{N}{2}(∏_{i=1}^{d}\\lambda_i)^\\frac{N}{2}\\frac{1}{\\lambda_k}\\text{exp}\\{-\\frac{N}{2}\\sum_{i=1}^{d}\\lambda_i\\}-C\\frac{N}{2}(∏_{i=1}^{d}\\lambda_i)^\\frac{N}{2}\\text{exp}\\{-\\frac{N}{2}\\sum_{i=1}^{d}\\lambda_i\\}\\\\\n",
        "=C\\frac{N}{2}(∏_{i=1}^{d}\\lambda_i)^\\frac{N}{2}\\text{exp}\\{-\\frac{N}{2}\\sum_{i=1}^{d}\\lambda_i\\}(\\frac{1}{\\lambda_k}-1)\n",
        "$\n",
        "\n",
        "$$\n",
        "\\frac{1}{\\lambda_k}=1\\leftrightarrow\\lambda_k=1\n",
        "$$"
      ],
      "metadata": {
        "id": "oUa8P7zpP_G1"
      }
    },
    {
      "cell_type": "markdown",
      "source": [
        "# Exercise 2: Cat Classification"
      ],
      "metadata": {
        "id": "NDjJMGeg6dUQ"
      }
    },
    {
      "cell_type": "markdown",
      "source": [
        "## (a) Train the classifier with text file"
      ],
      "metadata": {
        "id": "EDzVfxQyVLAO"
      }
    },
    {
      "cell_type": "markdown",
      "source": [
        "### (i)"
      ],
      "metadata": {
        "id": "5pbktOOSaDlT"
      }
    },
    {
      "cell_type": "code",
      "source": [
        "# Mount the drive\n",
        "from google.colab import drive\n",
        "drive.mount('/content/drive')"
      ],
      "metadata": {
        "colab": {
          "base_uri": "https://localhost:8080/"
        },
        "id": "ykZxD0enU3Ou",
        "outputId": "2bd20a19-ea87-4f8c-f6d5-6b1a718aa51b"
      },
      "execution_count": 1,
      "outputs": [
        {
          "output_type": "stream",
          "name": "stdout",
          "text": [
            "Mounted at /content/drive\n"
          ]
        }
      ]
    },
    {
      "cell_type": "code",
      "source": [
        "import os\n",
        "import numpy as np\n",
        "import matplotlib.pyplot as plt"
      ],
      "metadata": {
        "id": "BnWk1jnQXIAk"
      },
      "execution_count": 18,
      "outputs": []
    },
    {
      "cell_type": "code",
      "source": [
        "data_dir = \"/content/drive/MyDrive/ECE595_assignments/Assignment-3/data/\"\n",
        "cat_train_data_dir = os.path.join(data_dir, \"train_cat.txt\")\n",
        "grass_train_data_dir = os.path.join(data_dir, \"train_grass.txt\")\n",
        "\n",
        "# Load cat and grass training data\n",
        "cat_train_data = np.matrix(np.loadtxt(cat_train_data_dir, delimiter=','))\n",
        "grass_train_data = np.matrix(np.loadtxt(grass_train_data_dir, delimiter=','))"
      ],
      "metadata": {
        "id": "MFUsNDfXVMo1"
      },
      "execution_count": 19,
      "outputs": []
    },
    {
      "cell_type": "markdown",
      "source": [
        "### (ii)"
      ],
      "metadata": {
        "id": "cg73S0YVaE75"
      }
    },
    {
      "cell_type": "code",
      "source": [
        "def calc_mean_cov(train_data):\n",
        "    # Calculate means and covariance\n",
        "    mean = train_data.mean(axis=1)\n",
        "    cov = np.cov(train_data)\n",
        "    return mean, cov\n",
        "\n",
        "# Train Naive Bayes classifier\n",
        "mean_cat, cov_cat = calc_mean_cov(cat_train_data)\n",
        "mean_grass, cov_grass = calc_mean_cov(grass_train_data)\n",
        "K_cat, K_grass = cat_train_data.shape[1], grass_train_data.shape[1]"
      ],
      "metadata": {
        "id": "bbDohuYjWenL"
      },
      "execution_count": 23,
      "outputs": []
    },
    {
      "cell_type": "markdown",
      "source": [
        "## (b) Test the classifier on image"
      ],
      "metadata": {
        "id": "3LNPpAteXohr"
      }
    },
    {
      "cell_type": "markdown",
      "source": [
        "### (i)"
      ],
      "metadata": {
        "id": "ZZXI1br1Z33A"
      }
    },
    {
      "cell_type": "code",
      "source": [
        "# Load the images\n",
        "image_dir = os.path.join(data_dir, \"cat_grass.jpg\")\n",
        "test_img = plt.imread(image_dir) / 255\n",
        "label_dir = os.path.join(data_dir, \"truth.png\")\n",
        "label_img = plt.imread(label_dir) / 255"
      ],
      "metadata": {
        "id": "F_LdPXevXqmf"
      },
      "execution_count": 41,
      "outputs": []
    },
    {
      "cell_type": "markdown",
      "source": [
        "### (ii)"
      ],
      "metadata": {
        "id": "RgygBjL6Z73h"
      }
    },
    {
      "cell_type": "code",
      "source": [
        "def testing(Y, mean_cat, cov_cat, K_cat, mean_grass, cov_grass, K_grass, shift_size=1):\n",
        "    \n",
        "    d = mean_cat.shape[0]\n",
        "    h, w = Y.shape\n",
        "    output = np.zeros((h - 8, w - 8))\n",
        "    prior_cat = K_cat / (K_cat + K_grass)\n",
        "    prior_grass = K_grass / (K_cat + K_grass)\n",
        "    cov_cat_inv = np.linalg.pinv(cov_cat)\n",
        "    cov_grass_inv = np.linalg.pinv(cov_grass)\n",
        "    C_cat = 1 / (2 * np.pi) ** (d / 2) / np.sqrt(np.linalg.det(cov_cat)) * prior_cat\n",
        "    C_grass = 1 / (2 * np.pi) ** (d / 2) / np.sqrt(np.linalg.det(cov_grass)) * prior_grass\n",
        "\n",
        "    for i in np.arange(0, h - 8, shift_size):\n",
        "        for j in np.arange(0, w - 8, shift_size):\n",
        "            z = np.reshape(Y[i:i+8, j:j+8], (64, 1), 'F')\n",
        "            f_cat = C_cat * np.exp(-0.5 * ((z - mean_cat).T @ cov_cat_inv @ (z - mean_cat)))\n",
        "            f_grass = C_grass * np.exp(-0.5 * ((z - mean_grass).T @ cov_grass_inv @ (z - mean_grass)))\n",
        "            if f_cat > f_grass:\n",
        "                 output[i:i + shift_size, j:j + shift_size] = 1\n",
        "            else:\n",
        "                 output[i:i + shift_size, j:j + shift_size] = 0\n",
        "    output = np.asfarray(output)\n",
        "    return output\n",
        "\n",
        "# Perform inference using overlapping approach\n",
        "test_image_output1 = testing(test_img, mean_cat, cov_cat, K_cat, mean_grass, cov_grass, K_grass)\n",
        "plt.title(\"Cat Grass Segmentation Inference Using Overlapping Approach\")\n",
        "plt.imshow(test_image_output1, cmap='gray')"
      ],
      "metadata": {
        "colab": {
          "base_uri": "https://localhost:8080/",
          "height": 298
        },
        "id": "yLdm5U-qb1Ah",
        "outputId": "f3dff085-d8b3-4653-d25b-2dd2697b56cf"
      },
      "execution_count": 61,
      "outputs": [
        {
          "output_type": "execute_result",
          "data": {
            "text/plain": [
              "<matplotlib.image.AxesImage at 0x7f77fb761690>"
            ]
          },
          "metadata": {},
          "execution_count": 61
        },
        {
          "output_type": "display_data",
          "data": {
            "text/plain": [
              "<Figure size 432x288 with 1 Axes>"
            ],
            "image/png": "[encoded data removed]"
          },
          "metadata": {
            "needs_background": "light"
          }
        }
      ]
    },
    {
      "cell_type": "markdown",
      "source": [
        "### (iii)"
      ],
      "metadata": {
        "id": "MG_Kz6a-gPUF"
      }
    },
    {
      "cell_type": "code",
      "source": [
        "# Perform inference using non-overlapping approach\n",
        "test_image_output2 = testing(test_img, mean_cat, cov_cat, K_cat, mean_grass, cov_grass, K_grass, shift_size=8)\n",
        "plt.title(\"Cat Grass Segmentation Inference Using Non-Overlapping Approach\")\n",
        "plt.imshow(test_image_output2, cmap='gray')"
      ],
      "metadata": {
        "colab": {
          "base_uri": "https://localhost:8080/",
          "height": 298
        },
        "id": "ZRFlbr8Gf6Ff",
        "outputId": "3b09f9f5-b784-4298-d9d6-bfa02a659141"
      },
      "execution_count": 62,
      "outputs": [
        {
          "output_type": "execute_result",
          "data": {
            "text/plain": [
              "<matplotlib.image.AxesImage at 0x7f77fb76a3d0>"
            ]
          },
          "metadata": {},
          "execution_count": 62
        },
        {
          "output_type": "display_data",
          "data": {
            "text/plain": [
              "<Figure size 432x288 with 1 Axes>"
            ],
            "image/png": "[encoded data removed]"
          },
          "metadata": {
            "needs_background": "light"
          }
        }
      ]
    },
    {
      "cell_type": "markdown",
      "source": [
        "### (iv)"
      ],
      "metadata": {
        "id": "Lo-lXFWNgW2h"
      }
    },
    {
      "cell_type": "code",
      "source": [
        "# Find the mean absolute error\n",
        "label_img = label_img[0:375-8, 0:500-8]\n",
        "\n",
        "mae1 = (np.abs(np.subtract(label_img, test_image_output1))).mean()\n",
        "print(\"The mean absolute error between truth and output image 1: \" + str(mae1))\n",
        "\n",
        "mae2 = (np.abs(np.subtract(label_img, test_image_output2))).mean()\n",
        "print(\"The mean absolute error between truth and output image 2: \" + str(mae2))\n"
      ],
      "metadata": {
        "colab": {
          "base_uri": "https://localhost:8080/"
        },
        "id": "K3lENvWzgYgh",
        "outputId": "5c7e4d9c-b611-48e3-817d-041be174b1de"
      },
      "execution_count": 74,
      "outputs": [
        {
          "output_type": "stream",
          "name": "stdout",
          "text": [
            "The mean absolute error between truth and output image 1: 0.20541927035131918\n",
            "The mean absolute error between truth and output image 2: 0.21149889836614405\n"
          ]
        }
      ]
    },
    {
      "cell_type": "markdown",
      "source": [
        "### (v)"
      ],
      "metadata": {
        "id": "WVzsmGQGpwaA"
      }
    },
    {
      "cell_type": "code",
      "source": [
        "# Load the images\n",
        "image_dir = os.path.join(data_dir, \"cheetah_grass.jpg\")\n",
        "cheetah_img = plt.imread(image_dir) / 255\n",
        "\n",
        "test_image_output3 = testing(cheetah_img, mean_cat, cov_cat, K_cat, mean_grass, cov_grass, K_grass)\n",
        "plt.title(\"Cheetah Grass Segmentation Inference Using Cat Training Data\")\n",
        "plt.imshow(test_image_output3, cmap='gray')"
      ],
      "metadata": {
        "colab": {
          "base_uri": "https://localhost:8080/",
          "height": 298
        },
        "id": "UG7PHr-bpvQx",
        "outputId": "f4855c43-4cab-4896-d833-37db1a297987"
      },
      "execution_count": 92,
      "outputs": [
        {
          "output_type": "execute_result",
          "data": {
            "text/plain": [
              "<matplotlib.image.AxesImage at 0x7f77fbc1ead0>"
            ]
          },
          "metadata": {},
          "execution_count": 92
        },
        {
          "output_type": "display_data",
          "data": {
            "text/plain": [
              "<Figure size 432x288 with 1 Axes>"
            ],
            "image/png": "[encoded data removed]"
          },
          "metadata": {
            "needs_background": "light"
          }
        }
      ]
    },
    {
      "cell_type": "markdown",
      "source": [
        "I concluded two solution for the problem. First, the float value that determines the mask are not on same level with the cheetah image, causing the color to be different but catching the shape. Second, the position of the cheetah is different. The classifier are not good enough to capture transformation of the image."
      ],
      "metadata": {
        "id": "7NJ1BGTdt7G0"
      }
    },
    {
      "cell_type": "markdown",
      "source": [
        "# Exercise 3: Connection to Linear Least-Squares"
      ],
      "metadata": {
        "id": "8UX2d3IQ6gbd"
      }
    },
    {
      "cell_type": "markdown",
      "source": [
        "## (a)\n",
        "\n",
        "$$\n",
        "\\beta=\\hat{\\Sigma}^{-1}(\\hat{\\mu}_2-\\hat{\\mu}_1)\\\\\n",
        "\\beta_0=-\\frac{1}{2}\\hat{\\mu}_2^T\\hat{\\Sigma}^-1\\hat{\\mu}_2+\\frac{1}{2}\\hat{\\mu}_1^T\\hat{\\Sigma}^-1\\hat{\\mu}_1+log(\\frac{N_2}{N})-log(\\frac{N_1}{N})\n",
        "$$"
      ],
      "metadata": {
        "id": "PUuJ31A1xWQ2"
      }
    },
    {
      "cell_type": "markdown",
      "source": [
        "## (b)"
      ],
      "metadata": {
        "id": "3rJatr5UyKIl"
      }
    },
    {
      "cell_type": "markdown",
      "source": [
        "### (i)\n",
        "\n",
        "Taking product of expression $A$ we have\n",
        "\n",
        "$$\n",
        "A^TA=\\begin{bmatrix} \\sum_{i=1}^{N_1}x_i^{(1)}x_i^{(1)T} + \\sum_{i=1}^{N_2}x_i^{(2)}x_i^{(2)T} & \\sum_{i=1}^{N_1}x_i^{(1)} + \\sum_{i=1}^{N_2}x_i^{(2)}\\\\\n",
        "\\sum_{i=1}^{N_1}x_i^{(1)T} + \\sum_{i=1}^{N_2}x_i^{(2)T} & N\\end{bmatrix}\n",
        "$$"
      ],
      "metadata": {
        "id": "M-x3CEDmyWl1"
      }
    },
    {
      "cell_type": "markdown",
      "source": [
        "$$\n",
        "\\hat{\\Sigma}=\\frac{1}{N-2}[(\\sum_{i=1}^{N_1}x_i^{(1)}x_i^{(1)T})-N_1\\hat{\\mu}_1\\hat{\\mu}_1^T+(\\sum_{j=1}^{N_2}x_j^{(2)}x_j^{(2)T})-N_2\\hat{\\mu}_2\\hat{\\mu}_2^T]\n",
        "$$\n",
        "\n",
        "Follows that\n",
        "\n",
        "$$\n",
        "\\sum_{i=1}^{N_1}x_i^{(1)}x_i^{(1)T}+\\sum_{j=1}^{N_2}x_j^{(2)}x_j^{(2)T}=(N-2)\\hat{\\Sigma}+N_1\\hat{\\mu}_1\\hat{\\mu}_1^T+N_2\\hat{\\mu}_2\\hat{\\mu}_2^T\n",
        "$$"
      ],
      "metadata": {
        "id": "KFgoWqaJzk1U"
      }
    },
    {
      "cell_type": "markdown",
      "source": [
        "### (ii)\n",
        "\n",
        "For $b$, $b_i=e_1$ for $i=1$ to $N_1$, $b_i=e_2$ for $i=N_1+1$ to $N$."
      ],
      "metadata": {
        "id": "cB-Ijnta09Uz"
      }
    },
    {
      "cell_type": "markdown",
      "source": [
        "### (iii)\n",
        "\n",
        "Substituting expressions of $A^TA$ and $A^Tb$ into\n",
        "\n",
        "$$\n",
        "A^TA\\begin{bmatrix}w\\\\w_o\\end{bmatrix}=A^Tb\n",
        "$$"
      ],
      "metadata": {
        "id": "cMpNv8g31YmY"
      }
    },
    {
      "cell_type": "markdown",
      "source": [
        "## (c)\n",
        "\n",
        "$$\n",
        "w=\\frac{1}{N-2}\\hat{\\Sigma}^{-1}(\\hat{\\mu}_2-\\hat{\\mu}_1)\n",
        "$$"
      ],
      "metadata": {
        "id": "jbVBnFiJ14oF"
      }
    },
    {
      "cell_type": "markdown",
      "source": [
        "## (d)\n",
        "\n",
        "$$\n",
        "w_0=\\frac{a}{2}(\\hat{\\mu}_1^T\\hat{\\Sigma}^{-1}\\hat{\\mu}_1-\\hat{\\mu}_2^T\\hat{\\Sigma}^{-1}\\hat{\\mu}_2)\n",
        "$$\n",
        "\n",
        "Inverse is symmetric therefore\n",
        "\n",
        "$$\n",
        "\\hat{\\mu}_1^T\\hat{\\Sigma}^{-1}\\hat{\\mu}_2-\\hat{\\mu}_2^T\\hat{\\Sigma}^{-1}\\hat{\\mu}_1 = 0\n",
        "$$\n",
        "\n",
        "Compare to expression of $\\beta _0$\n",
        "\n",
        "$$\n",
        "\\beta _0=\\frac{1}{2}(\\hat{\\mu}_1^T\\hat{\\Sigma}^{-1}\\hat{\\mu}_1-\\hat{\\mu}_2^T\\hat{\\Sigma}^{-1}\\hat{\\mu}_2)\n",
        "$$"
      ],
      "metadata": {
        "id": "s4xTysIh2Kol"
      }
    }
  ]
}